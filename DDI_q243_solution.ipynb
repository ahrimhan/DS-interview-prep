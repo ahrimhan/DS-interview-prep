{
  "nbformat": 4,
  "nbformat_minor": 0,
  "metadata": {
    "colab": {
      "name": "DDI_q243_solution.ipynb",
      "provenance": [],
      "collapsed_sections": [],
      "include_colab_link": true
    },
    "kernelspec": {
      "name": "python3",
      "display_name": "Python 3"
    }
  },
  "cells": [
    {
      "cell_type": "markdown",
      "metadata": {
        "id": "view-in-github",
        "colab_type": "text"
      },
      "source": [
        "<a href=\"https://colab.research.google.com/github/ahrimhan/DS-interview-prep/blob/main/DDI_q243_solution.ipynb\" target=\"_parent\"><img src=\"https://colab.research.google.com/assets/colab-badge.svg\" alt=\"Open In Colab\"/></a>"
      ]
    },
    {
      "cell_type": "markdown",
      "metadata": {
        "id": "35-tYdXjJojh"
      },
      "source": [
        "Question from <a href=\"www.interviewqs.com\">Data Interview Qs</a> - sign up to receive a few DS questions/week via email."
      ]
    },
    {
      "cell_type": "markdown",
      "metadata": {
        "id": "BeO2dmERJ_3E"
      },
      "source": [
        "\n",
        "\n",
        "---\n",
        "\n"
      ]
    },
    {
      "cell_type": "markdown",
      "metadata": {
        "id": "Gvs1n_kfkYjI"
      },
      "source": [
        "<p>You are given a string representing all letter grades a student as earned. The record only contains the following three characters:\n",
        "<ul>\n",
        "  <li>'A' : Excellent</li>\n",
        "  <li>'B' : Good</li>\n",
        "  <li>'C' : Average</li>\n",
        "  <li>'D' : Below Average</li>\n",
        "  <li>'F' : Deficient</li>\n",
        "</ul>\n",
        "</p>\n",
        "<p>A student will be given a diploma if their record has:\n",
        "<ul> \n",
        "<li>Less than 5 <b>D</b>'s </li>\n",
        "<li>Less than 2 <b>F</b>'s</li>\n",
        "<li>No more than 3 consecutive <b>D</b>'s\n",
        "</ul>\n",
        "</p>\n",
        "<p>Given a string, you'll need to return whether a given student will be given a diploma.</p>"
      ]
    },
    {
      "cell_type": "markdown",
      "metadata": {
        "id": "Ex_Wu2BgKOr0"
      },
      "source": [
        "\n",
        "\n",
        "---\n",
        "\n"
      ]
    },
    {
      "cell_type": "markdown",
      "metadata": {
        "id": "jy3V9cdrJtoJ"
      },
      "source": [
        "##**Solution**:\n",
        "\n",
        "First we're going to check if we have 3 consecutive <b>D</b>s first, then we'll count the occurance of <b>D</b>s and <b>F</b>s. If any of the conditions are hit, we'll return \"False\"."
      ]
    },
    {
      "cell_type": "code",
      "metadata": {
        "id": "bla4BFrerh-d"
      },
      "source": [
        "# creating a function\n",
        "def gradeChecker(s):\n",
        "    #first check is to see if we have 3 consecutive Ds\n",
        "    if s.find(\"DDD\") != -1: \n",
        "            return False\n",
        "    \n",
        "    #initating a count to see how often\n",
        "    cntD = 0\n",
        "    cntF = 0\n",
        "\n",
        "    #going through the inputted string and \n",
        "    #counting the occurances of D's and F's\n",
        "    for i in range(len(s)):\n",
        "        if s[i] == 'D':\n",
        "            cntD += 1\n",
        "            if cntD > 5:\n",
        "                return False\n",
        "        if s[i] == 'F':\n",
        "            cntF += 1\n",
        "            if cntF > 2:\n",
        "                return False\n",
        "    #if everything passes, we'll return \"True\"\n",
        "    return True"
      ],
      "execution_count": 8,
      "outputs": []
    },
    {
      "cell_type": "code",
      "metadata": {
        "id": "VzdD05jUr_lx"
      },
      "source": [
        "#testing our function\n",
        "teststring1 ='AAABCEDFFFF' ## should fail due to Fs\n",
        "teststring2 ='AADABCEDDFFDD' ## should pass\n",
        "teststring3 ='AAABCEDDDDDDDFF' ## should fail due to consecutive Ds\n",
        "teststring4 ='AADDABCEDDFFDD' ## should fail due to >5 Ds"
      ],
      "execution_count": 9,
      "outputs": []
    },
    {
      "cell_type": "code",
      "metadata": {
        "id": "4DvvtcMxsy4j",
        "outputId": "13a9a88b-abd6-4228-9eb6-f5b037fa26a4",
        "colab": {
          "base_uri": "https://localhost:8080/"
        }
      },
      "source": [
        "print(gradeChecker(teststring1))\n",
        "print(gradeChecker(teststring2))\n",
        "print(gradeChecker(teststring3))\n",
        "print(gradeChecker(teststring4))"
      ],
      "execution_count": 10,
      "outputs": [
        {
          "output_type": "stream",
          "name": "stdout",
          "text": [
            "False\n",
            "True\n",
            "False\n",
            "False\n"
          ]
        }
      ]
    },
    {
      "cell_type": "code",
      "metadata": {
        "id": "UbHCxRZQMDC6"
      },
      "source": [
        "def gradeChecker2(s): #T: pass, F: fail\n",
        "\n",
        "  if s.find('DDD') != -1: #Python String find() method returns the lowest index of the substring if it is found in a given string. \n",
        "  #If it is not found then it returns -1. \n",
        "    return False\n",
        "\n",
        "  cntD = 0\n",
        "  cntF = 0\n",
        "\n",
        "  for i in range(len(s)):\n",
        "    if s[i] =='D':\n",
        "      cntD = cntD + 1\n",
        "    if s[i] =='F':\n",
        "      cntF = cntF + 1\n",
        "      \n",
        "    if cntD > 5 or cntF > 2:\n",
        "      return False\n",
        "\n",
        "\n",
        "  return True\n"
      ],
      "execution_count": 11,
      "outputs": []
    },
    {
      "cell_type": "code",
      "source": [
        "print(gradeChecker2(teststring1))\n",
        "print(gradeChecker2(teststring2))\n",
        "print(gradeChecker2(teststring3))\n",
        "print(gradeChecker2(teststring4))"
      ],
      "metadata": {
        "colab": {
          "base_uri": "https://localhost:8080/"
        },
        "id": "Rx4vxaR1747W",
        "outputId": "8dc4d8ca-4140-4605-aaf8-74367c76bf6d"
      },
      "execution_count": 12,
      "outputs": [
        {
          "output_type": "stream",
          "name": "stdout",
          "text": [
            "False\n",
            "True\n",
            "False\n",
            "False\n"
          ]
        }
      ]
    }
  ]
}